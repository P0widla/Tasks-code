{
  "nbformat": 4,
  "nbformat_minor": 0,
  "metadata": {
    "colab": {
      "name": "Untitled2.ipynb",
      "provenance": [],
      "authorship_tag": "ABX9TyMzzQ9jg0siuLQmGucPdmSW",
      "include_colab_link": true
    },
    "kernelspec": {
      "name": "python3",
      "display_name": "Python 3"
    },
    "language_info": {
      "name": "python"
    }
  },
  "cells": [
    {
      "cell_type": "markdown",
      "metadata": {
        "id": "view-in-github",
        "colab_type": "text"
      },
      "source": [
        "<a href=\"https://colab.research.google.com/github/P0widla/Tasks-code/blob/main/Untitled2.ipynb\" target=\"_parent\"><img src=\"https://colab.research.google.com/assets/colab-badge.svg\" alt=\"Open In Colab\"/></a>"
      ]
    },
    {
      "cell_type": "code",
      "metadata": {
        "id": "ZBhSZl7JytDO"
      },
      "source": [
        "function mlt(number) {\n",
        "  let sum = 0, \n",
        "  i = 3;\n",
        "  while (i < number)\n",
        "  {\n",
        "    if (i % 3 == 0 || i % 5 == 0)\n",
        "      sum += i;\n",
        "      i++\n",
        "  }\n",
        "  return sum;\n",
        "}\n",
        "mlt(1000);"
      ],
      "execution_count": null,
      "outputs": []
    }
  ]
}